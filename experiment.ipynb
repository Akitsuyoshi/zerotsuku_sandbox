{
 "cells": [
  {
   "cell_type": "code",
   "execution_count": 1,
   "metadata": {},
   "outputs": [
    {
     "data": {
      "application/javascript": [
       "\n",
       "            setTimeout(function() {\n",
       "                var nbb_cell_id = 1;\n",
       "                var nbb_unformatted_code = \"%load_ext nb_black\";\n",
       "                var nbb_formatted_code = \"%load_ext nb_black\";\n",
       "                var nbb_cells = Jupyter.notebook.get_cells();\n",
       "                for (var i = 0; i < nbb_cells.length; ++i) {\n",
       "                    if (nbb_cells[i].input_prompt_number == nbb_cell_id) {\n",
       "                        if (nbb_cells[i].get_text() == nbb_unformatted_code) {\n",
       "                             nbb_cells[i].set_text(nbb_formatted_code);\n",
       "                        }\n",
       "                        break;\n",
       "                    }\n",
       "                }\n",
       "            }, 500);\n",
       "            "
      ],
      "text/plain": [
       "<IPython.core.display.Javascript object>"
      ]
     },
     "metadata": {},
     "output_type": "display_data"
    }
   ],
   "source": [
    "%load_ext nb_black"
   ]
  },
  {
   "cell_type": "markdown",
   "metadata": {},
   "source": [
    "## Install dependencies"
   ]
  },
  {
   "cell_type": "code",
   "execution_count": 6,
   "metadata": {},
   "outputs": [
    {
     "data": {
      "application/javascript": [
       "\n",
       "            setTimeout(function() {\n",
       "                var nbb_cell_id = 6;\n",
       "                var nbb_unformatted_code = \"import numpy as np\\nimport matplotlib.pyplot as plt\\n%matplotlib inline\";\n",
       "                var nbb_formatted_code = \"import numpy as np\\nimport matplotlib.pyplot as plt\\n\\n%matplotlib inline\";\n",
       "                var nbb_cells = Jupyter.notebook.get_cells();\n",
       "                for (var i = 0; i < nbb_cells.length; ++i) {\n",
       "                    if (nbb_cells[i].input_prompt_number == nbb_cell_id) {\n",
       "                        if (nbb_cells[i].get_text() == nbb_unformatted_code) {\n",
       "                             nbb_cells[i].set_text(nbb_formatted_code);\n",
       "                        }\n",
       "                        break;\n",
       "                    }\n",
       "                }\n",
       "            }, 500);\n",
       "            "
      ],
      "text/plain": [
       "<IPython.core.display.Javascript object>"
      ]
     },
     "metadata": {},
     "output_type": "display_data"
    }
   ],
   "source": [
    "import numpy as np\n",
    "import matplotlib.pyplot as plt\n",
    "\n",
    "%matplotlib inline"
   ]
  },
  {
   "cell_type": "code",
   "execution_count": 3,
   "metadata": {},
   "outputs": [
    {
     "data": {
      "application/javascript": [
       "\n",
       "            setTimeout(function() {\n",
       "                var nbb_cell_id = 3;\n",
       "                var nbb_unformatted_code = \"def AND(x1, x2):\\n    x = np.array([x1, x2])\\n    w = np.array([0.5, 0.5])\\n    b = -0.7\\n    tmp = np.sum(w * x) + b\\n    if tmp <= 0:\\n        return 0\\n    elif tmp > 0:\\n        return 1\\n\\n\\ndef NAND(x1, x2):\\n    x = np.array([x1, x2])\\n    w = np.array([-0.5, -0.5])\\n    b = 0.7\\n    tmp = np.sum(w * x) + b\\n    if tmp <= 0:\\n        return 0\\n    elif tmp > 0:\\n        return 1\\n\\n\\ndef OR(x1, x2):\\n    x = np.array([x1, x2])\\n    w = np.array([0.5, 0.5])\\n    b = -0.2\\n    tmp = np.sum(w * x) + b\\n    if tmp <= 0:\\n        return 0\\n    elif tmp > 0:\\n        return 1\\n\\n\\ndef XOR(x1, x2):\\n    return AND(NAND(x1, x2), OR(x1, x2))\";\n",
       "                var nbb_formatted_code = \"def AND(x1, x2):\\n    x = np.array([x1, x2])\\n    w = np.array([0.5, 0.5])\\n    b = -0.7\\n    tmp = np.sum(w * x) + b\\n    if tmp <= 0:\\n        return 0\\n    elif tmp > 0:\\n        return 1\\n\\n\\ndef NAND(x1, x2):\\n    x = np.array([x1, x2])\\n    w = np.array([-0.5, -0.5])\\n    b = 0.7\\n    tmp = np.sum(w * x) + b\\n    if tmp <= 0:\\n        return 0\\n    elif tmp > 0:\\n        return 1\\n\\n\\ndef OR(x1, x2):\\n    x = np.array([x1, x2])\\n    w = np.array([0.5, 0.5])\\n    b = -0.2\\n    tmp = np.sum(w * x) + b\\n    if tmp <= 0:\\n        return 0\\n    elif tmp > 0:\\n        return 1\\n\\n\\ndef XOR(x1, x2):\\n    return AND(NAND(x1, x2), OR(x1, x2))\";\n",
       "                var nbb_cells = Jupyter.notebook.get_cells();\n",
       "                for (var i = 0; i < nbb_cells.length; ++i) {\n",
       "                    if (nbb_cells[i].input_prompt_number == nbb_cell_id) {\n",
       "                        if (nbb_cells[i].get_text() == nbb_unformatted_code) {\n",
       "                             nbb_cells[i].set_text(nbb_formatted_code);\n",
       "                        }\n",
       "                        break;\n",
       "                    }\n",
       "                }\n",
       "            }, 500);\n",
       "            "
      ],
      "text/plain": [
       "<IPython.core.display.Javascript object>"
      ]
     },
     "metadata": {},
     "output_type": "display_data"
    }
   ],
   "source": [
    "def AND(x1, x2):\n",
    "    x = np.array([x1, x2])\n",
    "    w = np.array([0.5, 0.5])\n",
    "    b = -0.7\n",
    "    tmp = np.sum(w * x) + b\n",
    "    if tmp <= 0:\n",
    "        return 0\n",
    "    elif tmp > 0:\n",
    "        return 1\n",
    "\n",
    "\n",
    "def NAND(x1, x2):\n",
    "    x = np.array([x1, x2])\n",
    "    w = np.array([-0.5, -0.5])\n",
    "    b = 0.7\n",
    "    tmp = np.sum(w * x) + b\n",
    "    if tmp <= 0:\n",
    "        return 0\n",
    "    elif tmp > 0:\n",
    "        return 1\n",
    "\n",
    "\n",
    "def OR(x1, x2):\n",
    "    x = np.array([x1, x2])\n",
    "    w = np.array([0.5, 0.5])\n",
    "    b = -0.2\n",
    "    tmp = np.sum(w * x) + b\n",
    "    if tmp <= 0:\n",
    "        return 0\n",
    "    elif tmp > 0:\n",
    "        return 1\n",
    "\n",
    "\n",
    "def XOR(x1, x2):\n",
    "    return AND(NAND(x1, x2), OR(x1, x2))"
   ]
  },
  {
   "cell_type": "markdown",
   "metadata": {},
   "source": [
    "#### Activation Functions"
   ]
  },
  {
   "cell_type": "code",
   "execution_count": 28,
   "metadata": {},
   "outputs": [
    {
     "data": {
      "application/javascript": [
       "\n",
       "            setTimeout(function() {\n",
       "                var nbb_cell_id = 28;\n",
       "                var nbb_unformatted_code = \"def step_function(x):\\n    #     y = x > 0\\n    #     return y.astype(np.int)\\n    return np.array(x > 0, dtype=int)\\n\\n\\ndef sigmoid(x):\\n    return 1 / (1 + np.exp(-x))\\n\\n\\ndef relu(x):\\n    return np.maximum(0, x)\\n\\n\\ndef identity_function(x):\\n    return x\\n\\n\\ndef softmax(x):\\n    max_x = np.max(x)\\n    exp_x = np.exp(x - max_x)\\n    return exp_x / np.sum(exp_x)\";\n",
       "                var nbb_formatted_code = \"def step_function(x):\\n    #     y = x > 0\\n    #     return y.astype(np.int)\\n    return np.array(x > 0, dtype=int)\\n\\n\\ndef sigmoid(x):\\n    return 1 / (1 + np.exp(-x))\\n\\n\\ndef relu(x):\\n    return np.maximum(0, x)\\n\\n\\ndef identity_function(x):\\n    return x\\n\\n\\ndef softmax(x):\\n    max_x = np.max(x)\\n    exp_x = np.exp(x - max_x)\\n    return exp_x / np.sum(exp_x)\";\n",
       "                var nbb_cells = Jupyter.notebook.get_cells();\n",
       "                for (var i = 0; i < nbb_cells.length; ++i) {\n",
       "                    if (nbb_cells[i].input_prompt_number == nbb_cell_id) {\n",
       "                        if (nbb_cells[i].get_text() == nbb_unformatted_code) {\n",
       "                             nbb_cells[i].set_text(nbb_formatted_code);\n",
       "                        }\n",
       "                        break;\n",
       "                    }\n",
       "                }\n",
       "            }, 500);\n",
       "            "
      ],
      "text/plain": [
       "<IPython.core.display.Javascript object>"
      ]
     },
     "metadata": {},
     "output_type": "display_data"
    }
   ],
   "source": [
    "def step_function(x):\n",
    "    #     y = x > 0\n",
    "    #     return y.astype(np.int)\n",
    "    return np.array(x > 0, dtype=int)\n",
    "\n",
    "\n",
    "def sigmoid(x):\n",
    "    return 1 / (1 + np.exp(-x))\n",
    "\n",
    ".s\n",
    "def relu(x):\n",
    "    return np.maximum(0, x)\n",
    "\n",
    "\n",
    "def identity_function(x):\n",
    "    return x\n",
    "\n",
    "\n",
    "def softmax(x):\n",
    "    max_x = np.max(x)\n",
    "    exp_x = np.exp(x - max_x)\n",
    "    return exp_x / np.sum(exp_x)"
   ]
  },
  {
   "cell_type": "markdown",
   "metadata": {},
   "source": [
    "#### Visualize activation functions above"
   ]
  },
  {
   "cell_type": "code",
   "execution_count": 16,
   "metadata": {},
   "outputs": [
    {
     "data": {
      "image/png": "[encoded data removed]",
      "text/plain": [
       "<Figure size 432x288 with 1 Axes>"
      ]
     },
     "metadata": {
      "needs_background": "light"
     },
     "output_type": "display_data"
    },
    {
     "data": {
      "application/javascript": [
       "\n",
       "            setTimeout(function() {\n",
       "                var nbb_cell_id = 16;\n",
       "                var nbb_unformatted_code = \"x = np.arange(-5, 5, 0.1)\\ny = relu(x)\\nplt.plot(x, y)\\n# plt.ylim(-0.1, 1.1)\\nplt.show()\";\n",
       "                var nbb_formatted_code = \"x = np.arange(-5, 5, 0.1)\\ny = relu(x)\\nplt.plot(x, y)\\n# plt.ylim(-0.1, 1.1)\\nplt.show()\";\n",
       "                var nbb_cells = Jupyter.notebook.get_cells();\n",
       "                for (var i = 0; i < nbb_cells.length; ++i) {\n",
       "                    if (nbb_cells[i].input_prompt_number == nbb_cell_id) {\n",
       "                        if (nbb_cells[i].get_text() == nbb_unformatted_code) {\n",
       "                             nbb_cells[i].set_text(nbb_formatted_code);\n",
       "                        }\n",
       "                        break;\n",
       "                    }\n",
       "                }\n",
       "            }, 500);\n",
       "            "
      ],
      "text/plain": [
       "<IPython.core.display.Javascript object>"
      ]
     },
     "metadata": {},
     "output_type": "display_data"
    }
   ],
   "source": [
    "x = np.arange(-5, 5, 0.1)\n",
    "y = relu(x)\n",
    "plt.plot(x, y)\n",
    "# plt.ylim(-0.1, 1.1)\n",
    "plt.show()"
   ]
  },
  {
   "cell_type": "code",
   "execution_count": 26,
   "metadata": {},
   "outputs": [
    {
     "name": "stdout",
     "output_type": "stream",
     "text": [
      "[0.31682708 0.69627909]\n"
     ]
    },
    {
     "data": {
      "application/javascript": [
       "\n",
       "            setTimeout(function() {\n",
       "                var nbb_cell_id = 26;\n",
       "                var nbb_unformatted_code = \"def init_network():\\n    network = {}\\n    network[\\\"W1\\\"] = np.array([[0.1, 0.3, 0.5], [0.2, 0.4, 0.6]])\\n    network[\\\"b1\\\"] = np.array([0.1, 0.2, 0.3])\\n    network[\\\"W2\\\"] = np.array([[0.1, 0.4], [0.2, 0.5], [0.3, 0.6]])\\n    network[\\\"b2\\\"] = np.array([0.1, 0.2])\\n    network[\\\"W3\\\"] = np.array([[0.1, 0.3], [0.2, 0.4]])\\n    network[\\\"b3\\\"] = np.array([0.1, 0.2])\\n    return network\\n\\n\\ndef forward(network, x):\\n    W1, W2, W3 = network[\\\"W1\\\"], network[\\\"W2\\\"], network[\\\"W3\\\"]\\n    b1, b2, b3 = network[\\\"b1\\\"], network[\\\"b2\\\"], network[\\\"b3\\\"]\\n\\n    x = np.dot(x, W1) + b1\\n    x = sigmoid(x)\\n    x = np.dot(x, W2) + b2\\n    x = sigmoid(x)\\n    x = np.dot(x, W3) + b3\\n    return identity_function(x)\\n\\n\\nnetwork = init_network()\\nx = np.array([1, 0.5])\\ny = forward(network, x)\\nprint(y)\";\n",
       "                var nbb_formatted_code = \"def init_network():\\n    network = {}\\n    network[\\\"W1\\\"] = np.array([[0.1, 0.3, 0.5], [0.2, 0.4, 0.6]])\\n    network[\\\"b1\\\"] = np.array([0.1, 0.2, 0.3])\\n    network[\\\"W2\\\"] = np.array([[0.1, 0.4], [0.2, 0.5], [0.3, 0.6]])\\n    network[\\\"b2\\\"] = np.array([0.1, 0.2])\\n    network[\\\"W3\\\"] = np.array([[0.1, 0.3], [0.2, 0.4]])\\n    network[\\\"b3\\\"] = np.array([0.1, 0.2])\\n    return network\\n\\n\\ndef forward(network, x):\\n    W1, W2, W3 = network[\\\"W1\\\"], network[\\\"W2\\\"], network[\\\"W3\\\"]\\n    b1, b2, b3 = network[\\\"b1\\\"], network[\\\"b2\\\"], network[\\\"b3\\\"]\\n\\n    x = np.dot(x, W1) + b1\\n    x = sigmoid(x)\\n    x = np.dot(x, W2) + b2\\n    x = sigmoid(x)\\n    x = np.dot(x, W3) + b3\\n    return identity_function(x)\\n\\n\\nnetwork = init_network()\\nx = np.array([1, 0.5])\\ny = forward(network, x)\\nprint(y)\";\n",
       "                var nbb_cells = Jupyter.notebook.get_cells();\n",
       "                for (var i = 0; i < nbb_cells.length; ++i) {\n",
       "                    if (nbb_cells[i].input_prompt_number == nbb_cell_id) {\n",
       "                        if (nbb_cells[i].get_text() == nbb_unformatted_code) {\n",
       "                             nbb_cells[i].set_text(nbb_formatted_code);\n",
       "                        }\n",
       "                        break;\n",
       "                    }\n",
       "                }\n",
       "            }, 500);\n",
       "            "
      ],
      "text/plain": [
       "<IPython.core.display.Javascript object>"
      ]
     },
     "metadata": {},
     "output_type": "display_data"
    }
   ],
   "source": [
    "def init_network():\n",
    "    network = {}\n",
    "    network[\"W1\"] = np.array([[0.1, 0.3, 0.5], [0.2, 0.4, 0.6]])\n",
    "    network[\"b1\"] = np.array([0.1, 0.2, 0.3])\n",
    "    network[\"W2\"] = np.array([[0.1, 0.4], [0.2, 0.5], [0.3, 0.6]])\n",
    "    network[\"b2\"] = np.array([0.1, 0.2])\n",
    "    network[\"W3\"] = np.array([[0.1, 0.3], [0.2, 0.4]])\n",
    "    network[\"b3\"] = np.array([0.1, 0.2])\n",
    "    return network\n",
    "\n",
    "\n",
    "def forward(network, x):\n",
    "    W1, W2, W3 = network[\"W1\"], network[\"W2\"], network[\"W3\"]\n",
    "    b1, b2, b3 = network[\"b1\"], network[\"b2\"], network[\"b3\"]\n",
    "\n",
    "    x = np.dot(x, W1) + b1\n",
    "    x = sigmoid(x)\n",
    "    x = np.dot(x, W2) + b2\n",
    "    x = sigmoid(x)\n",
    "    x = np.dot(x, W3) + b3\n",
    "    return identity_function(x)\n",
    "\n",
    "\n",
    "network = init_network()\n",
    "x = np.array([1, 0.5])\n",
    "y = forward(network, x)\n",
    "print(y)"
   ]
  },
  {
   "cell_type": "code",
   "execution_count": null,
   "metadata": {},
   "outputs": [],
   "source": []
  }
 ],
 "metadata": {
  "kernelspec": {
   "display_name": "Python 3 (ipykernel)",
   "language": "python",
   "name": "python3"
  },
  "language_info": {
   "codemirror_mode": {
    "name": "ipython",
    "version": 3
   },
   "file_extension": ".py",
   "mimetype": "text/x-python",
   "name": "python",
   "nbconvert_exporter": "python",
   "pygments_lexer": "ipython3",
   "version": "3.9.7"
  }
 },
 "nbformat": 4,
 "nbformat_minor": 2
}
